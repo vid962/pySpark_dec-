{
 "cells": [
  {
   "cell_type": "code",
   "execution_count": 1,
   "id": "0b9c916f",
   "metadata": {
    "_cell_guid": "b1076dfc-b9ad-4769-8c92-a6c4dae69d19",
    "_uuid": "8f2839f25d086af736a60e9eeb907d3b93b6e0e5",
    "execution": {
     "iopub.execute_input": "2023-02-28T12:58:47.456990Z",
     "iopub.status.busy": "2023-02-28T12:58:47.456547Z",
     "iopub.status.idle": "2023-02-28T12:58:47.479943Z",
     "shell.execute_reply": "2023-02-28T12:58:47.478436Z"
    },
    "papermill": {
     "duration": 0.041596,
     "end_time": "2023-02-28T12:58:47.482925",
     "exception": false,
     "start_time": "2023-02-28T12:58:47.441329",
     "status": "completed"
    },
    "tags": []
   },
   "outputs": [
    {
     "name": "stdout",
     "output_type": "stream",
     "text": [
      "/kaggle/input/my-data/customers_zip.csv\n",
      "/kaggle/input/my-data/delivery_zip.csv\n",
      "/kaggle/input/my-data/sports.csv\n",
      "/kaggle/input/my-data/orders.csv\n",
      "/kaggle/input/my-data/customer_orders.csv\n"
     ]
    }
   ],
   "source": [
    "import os\n",
    "data_paths = []\n",
    "for dirname, _, filenames in os.walk('/kaggle/input'):\n",
    "    for filename in filenames:\n",
    "        print(os.path.join(dirname, filename))\n",
    "        data_paths.append(os.path.join(dirname, filename))\n"
   ]
  },
  {
   "cell_type": "code",
   "execution_count": 2,
   "id": "94792b89",
   "metadata": {
    "execution": {
     "iopub.execute_input": "2023-02-28T12:58:47.508456Z",
     "iopub.status.busy": "2023-02-28T12:58:47.507995Z",
     "iopub.status.idle": "2023-02-28T12:59:51.262635Z",
     "shell.execute_reply": "2023-02-28T12:59:51.260067Z"
    },
    "papermill": {
     "duration": 63.770712,
     "end_time": "2023-02-28T12:59:51.265543",
     "exception": false,
     "start_time": "2023-02-28T12:58:47.494831",
     "status": "completed"
    },
    "tags": []
   },
   "outputs": [
    {
     "name": "stdout",
     "output_type": "stream",
     "text": [
      "Collecting pyspark\r\n",
      "  Downloading pyspark-3.3.2.tar.gz (281.4 MB)\r\n",
      "\u001b[2K     \u001b[90m━━━━━━━━━━━━━━━━━━━━━━━━━━━━━━━━━━━━━━━\u001b[0m \u001b[32m281.4/281.4 MB\u001b[0m \u001b[31m2.2 MB/s\u001b[0m eta \u001b[36m0:00:00\u001b[0m\r\n",
      "\u001b[?25h  Preparing metadata (setup.py) ... \u001b[?25l-\b \bdone\r\n",
      "\u001b[?25hCollecting py4j==0.10.9.5\r\n",
      "  Downloading py4j-0.10.9.5-py2.py3-none-any.whl (199 kB)\r\n",
      "\u001b[2K     \u001b[90m━━━━━━━━━━━━━━━━━━━━━━━━━━━━━━━━━━━━━━\u001b[0m \u001b[32m199.7/199.7 kB\u001b[0m \u001b[31m16.0 MB/s\u001b[0m eta \u001b[36m0:00:00\u001b[0m\r\n",
      "\u001b[?25hBuilding wheels for collected packages: pyspark\r\n",
      "  Building wheel for pyspark (setup.py) ... \u001b[?25l-\b \b\\\b \b|\b \b/\b \b-\b \b\\\b \b|\b \b/\b \b-\b \b\\\b \b|\b \b/\b \bdone\r\n",
      "\u001b[?25h  Created wheel for pyspark: filename=pyspark-3.3.2-py2.py3-none-any.whl size=281824025 sha256=29ffff4b82b2ab531277597999f9987921f31f85234e4bf6778f55c70898af69\r\n",
      "  Stored in directory: /root/.cache/pip/wheels/5a/54/9b/a89cac960efb57c4c35d41cc7c9f7b80daa21108bc376339b7\r\n",
      "Successfully built pyspark\r\n",
      "Installing collected packages: py4j, pyspark\r\n",
      "  Attempting uninstall: py4j\r\n",
      "    Found existing installation: py4j 0.10.9.7\r\n",
      "    Uninstalling py4j-0.10.9.7:\r\n",
      "      Successfully uninstalled py4j-0.10.9.7\r\n",
      "Successfully installed py4j-0.10.9.5 pyspark-3.3.2\r\n",
      "\u001b[33mWARNING: Running pip as the 'root' user can result in broken permissions and conflicting behaviour with the system package manager. It is recommended to use a virtual environment instead: https://pip.pypa.io/warnings/venv\u001b[0m\u001b[33m\r\n",
      "\u001b[0mNote: you may need to restart the kernel to use updated packages.\n"
     ]
    }
   ],
   "source": [
    "pip install pyspark"
   ]
  },
  {
   "cell_type": "code",
   "execution_count": 3,
   "id": "12d97362",
   "metadata": {
    "execution": {
     "iopub.execute_input": "2023-02-28T12:59:51.347120Z",
     "iopub.status.busy": "2023-02-28T12:59:51.346591Z",
     "iopub.status.idle": "2023-02-28T13:00:04.317160Z",
     "shell.execute_reply": "2023-02-28T13:00:04.314896Z"
    },
    "papermill": {
     "duration": 13.015085,
     "end_time": "2023-02-28T13:00:04.320393",
     "exception": false,
     "start_time": "2023-02-28T12:59:51.305308",
     "status": "completed"
    },
    "tags": []
   },
   "outputs": [
    {
     "name": "stdout",
     "output_type": "stream",
     "text": [
      "Collecting findspark\r\n",
      "  Downloading findspark-2.0.1-py2.py3-none-any.whl (4.4 kB)\r\n",
      "Installing collected packages: findspark\r\n",
      "Successfully installed findspark-2.0.1\r\n",
      "\u001b[33mWARNING: Running pip as the 'root' user can result in broken permissions and conflicting behaviour with the system package manager. It is recommended to use a virtual environment instead: https://pip.pypa.io/warnings/venv\u001b[0m\u001b[33m\r\n",
      "\u001b[0mNote: you may need to restart the kernel to use updated packages.\n"
     ]
    }
   ],
   "source": [
    "pip install findspark"
   ]
  },
  {
   "cell_type": "code",
   "execution_count": 4,
   "id": "e1bb740e",
   "metadata": {
    "execution": {
     "iopub.execute_input": "2023-02-28T13:00:04.403676Z",
     "iopub.status.busy": "2023-02-28T13:00:04.403182Z",
     "iopub.status.idle": "2023-02-28T13:00:04.465755Z",
     "shell.execute_reply": "2023-02-28T13:00:04.464502Z"
    },
    "papermill": {
     "duration": 0.107849,
     "end_time": "2023-02-28T13:00:04.468875",
     "exception": false,
     "start_time": "2023-02-28T13:00:04.361026",
     "status": "completed"
    },
    "tags": []
   },
   "outputs": [],
   "source": [
    "import pyspark \n",
    "from pyspark.sql.types import * \n",
    "from pyspark.sql import SparkSession\n",
    "from pyspark.sql.functions import *\n",
    "from pyspark.sql.functions import count as sql_count\n"
   ]
  },
  {
   "cell_type": "code",
   "execution_count": 5,
   "id": "a424bde5",
   "metadata": {
    "execution": {
     "iopub.execute_input": "2023-02-28T13:00:04.549613Z",
     "iopub.status.busy": "2023-02-28T13:00:04.549185Z",
     "iopub.status.idle": "2023-02-28T13:00:11.481727Z",
     "shell.execute_reply": "2023-02-28T13:00:11.480176Z"
    },
    "papermill": {
     "duration": 6.976465,
     "end_time": "2023-02-28T13:00:11.484812",
     "exception": false,
     "start_time": "2023-02-28T13:00:04.508347",
     "status": "completed"
    },
    "tags": []
   },
   "outputs": [
    {
     "name": "stderr",
     "output_type": "stream",
     "text": [
      "Setting default log level to \"WARN\".\n",
      "To adjust logging level use sc.setLogLevel(newLevel). For SparkR, use setLogLevel(newLevel).\n"
     ]
    },
    {
     "name": "stdout",
     "output_type": "stream",
     "text": [
      "23/02/28 13:00:08 WARN NativeCodeLoader: Unable to load native-hadoop library for your platform... using builtin-java classes where applicable\n"
     ]
    },
    {
     "data": {
      "text/html": [
       "\n",
       "            <div>\n",
       "                <p><b>SparkSession - in-memory</b></p>\n",
       "                \n",
       "        <div>\n",
       "            <p><b>SparkContext</b></p>\n",
       "\n",
       "            <p><a href=\"http://bea8d0b5aed8:4040\">Spark UI</a></p>\n",
       "\n",
       "            <dl>\n",
       "              <dt>Version</dt>\n",
       "                <dd><code>v3.3.2</code></dd>\n",
       "              <dt>Master</dt>\n",
       "                <dd><code>local[*]</code></dd>\n",
       "              <dt>AppName</dt>\n",
       "                <dd><code>my_spark</code></dd>\n",
       "            </dl>\n",
       "        </div>\n",
       "        \n",
       "            </div>\n",
       "        "
      ],
      "text/plain": [
       "<pyspark.sql.session.SparkSession at 0x7f39213492d0>"
      ]
     },
     "execution_count": 5,
     "metadata": {},
     "output_type": "execute_result"
    }
   ],
   "source": [
    "spark = SparkSession.builder.appName('my_spark').getOrCreate()\n",
    "spark"
   ]
  },
  {
   "cell_type": "markdown",
   "id": "e5c86638",
   "metadata": {
    "papermill": {
     "duration": 0.039243,
     "end_time": "2023-02-28T13:00:11.563898",
     "exception": false,
     "start_time": "2023-02-28T13:00:11.524655",
     "status": "completed"
    },
    "tags": []
   },
   "source": [
    "# Loading data"
   ]
  },
  {
   "cell_type": "code",
   "execution_count": 6,
   "id": "e68a8c65",
   "metadata": {
    "execution": {
     "iopub.execute_input": "2023-02-28T13:00:11.645202Z",
     "iopub.status.busy": "2023-02-28T13:00:11.644731Z",
     "iopub.status.idle": "2023-02-28T13:00:31.573359Z",
     "shell.execute_reply": "2023-02-28T13:00:31.572198Z"
    },
    "papermill": {
     "duration": 19.973337,
     "end_time": "2023-02-28T13:00:31.576727",
     "exception": false,
     "start_time": "2023-02-28T13:00:11.603390",
     "status": "completed"
    },
    "tags": []
   },
   "outputs": [
    {
     "name": "stderr",
     "output_type": "stream",
     "text": [
      "                                                                                \r"
     ]
    }
   ],
   "source": [
    "# creating dataframes\n",
    "\n",
    "for file_path in data_paths:\n",
    "    file_name = os.path.basename(file_path).split('.')[0]\n",
    "    globals()[file_name] = spark.read.csv(file_path, header=True, inferSchema=True)\n",
    "\n"
   ]
  },
  {
   "cell_type": "code",
   "execution_count": 7,
   "id": "298a364e",
   "metadata": {
    "execution": {
     "iopub.execute_input": "2023-02-28T13:00:31.664847Z",
     "iopub.status.busy": "2023-02-28T13:00:31.664329Z",
     "iopub.status.idle": "2023-02-28T13:00:31.673856Z",
     "shell.execute_reply": "2023-02-28T13:00:31.672719Z"
    },
    "papermill": {
     "duration": 0.053686,
     "end_time": "2023-02-28T13:00:31.676133",
     "exception": false,
     "start_time": "2023-02-28T13:00:31.622447",
     "status": "completed"
    },
    "tags": []
   },
   "outputs": [
    {
     "data": {
      "text/plain": [
       "['customers_zip', 'delivery_zip', 'sports', 'orders', 'customer_orders']"
      ]
     },
     "execution_count": 7,
     "metadata": {},
     "output_type": "execute_result"
    }
   ],
   "source": [
    "df_names = [os.path.splitext(os.path.basename(path))[0] for path in data_paths]\n",
    "df_names"
   ]
  },
  {
   "cell_type": "markdown",
   "id": "3d4b0234",
   "metadata": {
    "papermill": {
     "duration": 0.040762,
     "end_time": "2023-02-28T13:00:31.757596",
     "exception": false,
     "start_time": "2023-02-28T13:00:31.716834",
     "status": "completed"
    },
    "tags": []
   },
   "source": [
    "# Data frames:"
   ]
  },
  {
   "cell_type": "markdown",
   "id": "33dbba35",
   "metadata": {
    "papermill": {
     "duration": 0.041642,
     "end_time": "2023-02-28T13:00:31.839467",
     "exception": false,
     "start_time": "2023-02-28T13:00:31.797825",
     "status": "completed"
    },
    "tags": []
   },
   "source": [
    "# customers_zip"
   ]
  },
  {
   "cell_type": "code",
   "execution_count": 8,
   "id": "fdd3597f",
   "metadata": {
    "execution": {
     "iopub.execute_input": "2023-02-28T13:00:31.923880Z",
     "iopub.status.busy": "2023-02-28T13:00:31.922869Z",
     "iopub.status.idle": "2023-02-28T13:00:33.226631Z",
     "shell.execute_reply": "2023-02-28T13:00:33.225356Z"
    },
    "papermill": {
     "duration": 1.350483,
     "end_time": "2023-02-28T13:00:33.230010",
     "exception": false,
     "start_time": "2023-02-28T13:00:31.879527",
     "status": "completed"
    },
    "tags": []
   },
   "outputs": [
    {
     "name": "stdout",
     "output_type": "stream",
     "text": [
      "+-----------+--------+\n",
      "|customer_id|zip_cust|\n",
      "+-----------+--------+\n",
      "|   77461851|   39435|\n",
      "|   37934116|   92635|\n",
      "|   39770481|   61090|\n",
      "|   50298765|   40516|\n",
      "|   23383753|   85367|\n",
      "+-----------+--------+\n",
      "only showing top 5 rows\n",
      "\n",
      "root\n",
      " |-- customer_id: string (nullable = true)\n",
      " |-- zip_cust: string (nullable = true)\n",
      "\n"
     ]
    },
    {
     "name": "stderr",
     "output_type": "stream",
     "text": [
      "                                                                                \r"
     ]
    },
    {
     "data": {
      "text/plain": [
       "1064035"
      ]
     },
     "execution_count": 8,
     "metadata": {},
     "output_type": "execute_result"
    }
   ],
   "source": [
    "customers_zip = customers_zip.drop('_c0')\n",
    "customers_zip.show(5)\n",
    "customers_zip.printSchema()\n",
    "customers_zip.count() "
   ]
  },
  {
   "cell_type": "code",
   "execution_count": 9,
   "id": "10a08d58",
   "metadata": {
    "execution": {
     "iopub.execute_input": "2023-02-28T13:00:33.314142Z",
     "iopub.status.busy": "2023-02-28T13:00:33.313595Z",
     "iopub.status.idle": "2023-02-28T13:00:33.395942Z",
     "shell.execute_reply": "2023-02-28T13:00:33.394979Z"
    },
    "papermill": {
     "duration": 0.12825,
     "end_time": "2023-02-28T13:00:33.399218",
     "exception": false,
     "start_time": "2023-02-28T13:00:33.270968",
     "status": "completed"
    },
    "tags": []
   },
   "outputs": [
    {
     "name": "stdout",
     "output_type": "stream",
     "text": [
      "root\n",
      " |-- customer_id: integer (nullable = true)\n",
      " |-- zip_cust: integer (nullable = true)\n",
      "\n"
     ]
    }
   ],
   "source": [
    "# casting, zmiana typu danych string na poprawny typ, integer. \n",
    "\n",
    "customers_zip = customers_zip.withColumn('customer_id', col('customer_id').cast(IntegerType()))\n",
    "customers_zip = customers_zip.withColumn('zip_cust', col('zip_cust').cast(IntegerType()))\n",
    "\n",
    "customers_zip.printSchema()"
   ]
  },
  {
   "cell_type": "code",
   "execution_count": 10,
   "id": "edc0de24",
   "metadata": {
    "execution": {
     "iopub.execute_input": "2023-02-28T13:00:33.484875Z",
     "iopub.status.busy": "2023-02-28T13:00:33.484433Z",
     "iopub.status.idle": "2023-02-28T13:00:35.101262Z",
     "shell.execute_reply": "2023-02-28T13:00:35.099989Z"
    },
    "papermill": {
     "duration": 1.661388,
     "end_time": "2023-02-28T13:00:35.104512",
     "exception": false,
     "start_time": "2023-02-28T13:00:33.443124",
     "status": "completed"
    },
    "tags": []
   },
   "outputs": [
    {
     "name": "stderr",
     "output_type": "stream",
     "text": [
      "                                                                                \r"
     ]
    },
    {
     "data": {
      "text/plain": [
       "1064034"
      ]
     },
     "execution_count": 10,
     "metadata": {},
     "output_type": "execute_result"
    }
   ],
   "source": [
    "# usuniecie wierszy z wartosciami NULL \n",
    "customers_zip = customers_zip.dropna()\n",
    "customers_zip.count()"
   ]
  },
  {
   "cell_type": "markdown",
   "id": "0ab01187",
   "metadata": {
    "papermill": {
     "duration": 0.060941,
     "end_time": "2023-02-28T13:00:35.228232",
     "exception": false,
     "start_time": "2023-02-28T13:00:35.167291",
     "status": "completed"
    },
    "tags": []
   },
   "source": [
    "# delivery_zip"
   ]
  },
  {
   "cell_type": "code",
   "execution_count": 11,
   "id": "b996cc7a",
   "metadata": {
    "execution": {
     "iopub.execute_input": "2023-02-28T13:00:35.353279Z",
     "iopub.status.busy": "2023-02-28T13:00:35.352709Z",
     "iopub.status.idle": "2023-02-28T13:00:36.121390Z",
     "shell.execute_reply": "2023-02-28T13:00:36.120000Z"
    },
    "papermill": {
     "duration": 0.834941,
     "end_time": "2023-02-28T13:00:36.124703",
     "exception": false,
     "start_time": "2023-02-28T13:00:35.289762",
     "status": "completed"
    },
    "tags": []
   },
   "outputs": [
    {
     "name": "stdout",
     "output_type": "stream",
     "text": [
      "+-----------+-------+\n",
      "|customer_id|zip_del|\n",
      "+-----------+-------+\n",
      "|   77461851|  55685|\n",
      "|   37934116|  36236|\n",
      "|   39770481|     NA|\n",
      "|   50298765|  78823|\n",
      "|   23383753|  75757|\n",
      "+-----------+-------+\n",
      "only showing top 5 rows\n",
      "\n",
      "root\n",
      " |-- customer_id: string (nullable = true)\n",
      " |-- zip_del: string (nullable = true)\n",
      "\n"
     ]
    },
    {
     "data": {
      "text/plain": [
       "1701452"
      ]
     },
     "execution_count": 11,
     "metadata": {},
     "output_type": "execute_result"
    }
   ],
   "source": [
    "delivery_zip = delivery_zip.drop('_c0')\n",
    "delivery_zip.show(5)\n",
    "delivery_zip.printSchema()\n",
    "delivery_zip.count() "
   ]
  },
  {
   "cell_type": "code",
   "execution_count": 12,
   "id": "341e9989",
   "metadata": {
    "execution": {
     "iopub.execute_input": "2023-02-28T13:00:36.265945Z",
     "iopub.status.busy": "2023-02-28T13:00:36.265418Z",
     "iopub.status.idle": "2023-02-28T13:00:36.345231Z",
     "shell.execute_reply": "2023-02-28T13:00:36.343469Z"
    },
    "papermill": {
     "duration": 0.153581,
     "end_time": "2023-02-28T13:00:36.348912",
     "exception": false,
     "start_time": "2023-02-28T13:00:36.195331",
     "status": "completed"
    },
    "tags": []
   },
   "outputs": [
    {
     "name": "stdout",
     "output_type": "stream",
     "text": [
      "root\n",
      " |-- customer_id: integer (nullable = true)\n",
      " |-- zip_del: integer (nullable = true)\n",
      "\n"
     ]
    }
   ],
   "source": [
    "# casting, musimy zmienic typ danych ze string na integer, sprawdzamy ponownie za pomoca printSchema czy dane sa poprawne \n",
    "\n",
    "delivery_zip = delivery_zip.withColumn('customer_id', col('customer_id').cast(IntegerType()))\n",
    "delivery_zip = delivery_zip.withColumn('zip_del', col('zip_del').cast(IntegerType()))\n",
    "\n",
    "delivery_zip.printSchema()"
   ]
  },
  {
   "cell_type": "code",
   "execution_count": 13,
   "id": "0f192daf",
   "metadata": {
    "execution": {
     "iopub.execute_input": "2023-02-28T13:00:36.482165Z",
     "iopub.status.busy": "2023-02-28T13:00:36.481596Z",
     "iopub.status.idle": "2023-02-28T13:00:38.189202Z",
     "shell.execute_reply": "2023-02-28T13:00:38.187907Z"
    },
    "papermill": {
     "duration": 1.780187,
     "end_time": "2023-02-28T13:00:38.191960",
     "exception": false,
     "start_time": "2023-02-28T13:00:36.411773",
     "status": "completed"
    },
    "tags": []
   },
   "outputs": [
    {
     "name": "stderr",
     "output_type": "stream",
     "text": [
      "                                                                                \r"
     ]
    },
    {
     "data": {
      "text/plain": [
       "1651092"
      ]
     },
     "execution_count": 13,
     "metadata": {},
     "output_type": "execute_result"
    }
   ],
   "source": [
    "# usuniecie wierszy z wartosciami NULL \n",
    "delivery_zip = delivery_zip.dropna()\n",
    "delivery_zip.count()"
   ]
  },
  {
   "cell_type": "markdown",
   "id": "7420a95f",
   "metadata": {
    "papermill": {
     "duration": 0.07547,
     "end_time": "2023-02-28T13:00:38.309859",
     "exception": false,
     "start_time": "2023-02-28T13:00:38.234389",
     "status": "completed"
    },
    "tags": []
   },
   "source": [
    "# sports"
   ]
  },
  {
   "cell_type": "code",
   "execution_count": 14,
   "id": "89deab43",
   "metadata": {
    "execution": {
     "iopub.execute_input": "2023-02-28T13:00:38.443150Z",
     "iopub.status.busy": "2023-02-28T13:00:38.442603Z",
     "iopub.status.idle": "2023-02-28T13:00:38.990946Z",
     "shell.execute_reply": "2023-02-28T13:00:38.989646Z"
    },
    "papermill": {
     "duration": 0.6163,
     "end_time": "2023-02-28T13:00:38.994035",
     "exception": false,
     "start_time": "2023-02-28T13:00:38.377735",
     "status": "completed"
    },
    "tags": []
   },
   "outputs": [
    {
     "name": "stdout",
     "output_type": "stream",
     "text": [
      "+-----------+----------+\n",
      "|customer_id|     sport|\n",
      "+-----------+----------+\n",
      "|   77461851|  p3ywanie|\n",
      "|   37934116| myolistwo|\n",
      "|   39770481|3ucznictwo|\n",
      "|   50298765|nurkowanie|\n",
      "|   23383753|3ucznictwo|\n",
      "+-----------+----------+\n",
      "only showing top 5 rows\n",
      "\n",
      "root\n",
      " |-- customer_id: string (nullable = true)\n",
      " |-- sport: string (nullable = true)\n",
      "\n"
     ]
    },
    {
     "data": {
      "text/plain": [
       "1189747"
      ]
     },
     "execution_count": 14,
     "metadata": {},
     "output_type": "execute_result"
    }
   ],
   "source": [
    "sports = sports.drop('_c0')\n",
    "sports.show(5)\n",
    "sports.printSchema()\n",
    "sports.count()"
   ]
  },
  {
   "cell_type": "code",
   "execution_count": 15,
   "id": "33f65c15",
   "metadata": {
    "execution": {
     "iopub.execute_input": "2023-02-28T13:00:39.087922Z",
     "iopub.status.busy": "2023-02-28T13:00:39.087517Z",
     "iopub.status.idle": "2023-02-28T13:00:39.112617Z",
     "shell.execute_reply": "2023-02-28T13:00:39.111035Z"
    },
    "papermill": {
     "duration": 0.071038,
     "end_time": "2023-02-28T13:00:39.115300",
     "exception": false,
     "start_time": "2023-02-28T13:00:39.044262",
     "status": "completed"
    },
    "tags": []
   },
   "outputs": [
    {
     "name": "stdout",
     "output_type": "stream",
     "text": [
      "root\n",
      " |-- customer_id: integer (nullable = true)\n",
      " |-- sport: string (nullable = true)\n",
      "\n"
     ]
    }
   ],
   "source": [
    "sports = sports.withColumn('customer_id', col('customer_id').cast(IntegerType()))\n",
    "sports.printSchema() "
   ]
  },
  {
   "cell_type": "code",
   "execution_count": 16,
   "id": "950516cb",
   "metadata": {
    "execution": {
     "iopub.execute_input": "2023-02-28T13:00:39.200347Z",
     "iopub.status.busy": "2023-02-28T13:00:39.199915Z",
     "iopub.status.idle": "2023-02-28T13:00:40.297970Z",
     "shell.execute_reply": "2023-02-28T13:00:40.296642Z"
    },
    "papermill": {
     "duration": 1.144939,
     "end_time": "2023-02-28T13:00:40.301533",
     "exception": false,
     "start_time": "2023-02-28T13:00:39.156594",
     "status": "completed"
    },
    "tags": []
   },
   "outputs": [
    {
     "name": "stderr",
     "output_type": "stream",
     "text": [
      "                                                                                \r"
     ]
    },
    {
     "data": {
      "text/plain": [
       "1189746"
      ]
     },
     "execution_count": 16,
     "metadata": {},
     "output_type": "execute_result"
    }
   ],
   "source": [
    "# usuniecie wierszy z wartosciami NULL \n",
    "sports = sports.dropna()\n",
    "sports.count()"
   ]
  },
  {
   "cell_type": "markdown",
   "id": "5ce5a845",
   "metadata": {
    "papermill": {
     "duration": 0.042578,
     "end_time": "2023-02-28T13:00:40.385928",
     "exception": false,
     "start_time": "2023-02-28T13:00:40.343350",
     "status": "completed"
    },
    "tags": []
   },
   "source": [
    "# orders"
   ]
  },
  {
   "cell_type": "code",
   "execution_count": 17,
   "id": "ab4c1cd7",
   "metadata": {
    "execution": {
     "iopub.execute_input": "2023-02-28T13:00:40.471715Z",
     "iopub.status.busy": "2023-02-28T13:00:40.470642Z",
     "iopub.status.idle": "2023-02-28T13:00:41.756994Z",
     "shell.execute_reply": "2023-02-28T13:00:41.755556Z"
    },
    "papermill": {
     "duration": 1.333718,
     "end_time": "2023-02-28T13:00:41.761017",
     "exception": false,
     "start_time": "2023-02-28T13:00:40.427299",
     "status": "completed"
    },
    "tags": []
   },
   "outputs": [
    {
     "name": "stdout",
     "output_type": "stream",
     "text": [
      "+--------+------+\n",
      "|order_id| value|\n",
      "+--------+------+\n",
      "|82168832|240.29|\n",
      "|38300086|730.12|\n",
      "|70629629|145.04|\n",
      "|81244871|472.24|\n",
      "|88005542|354.54|\n",
      "+--------+------+\n",
      "only showing top 5 rows\n",
      "\n",
      "root\n",
      " |-- order_id: string (nullable = true)\n",
      " |-- value: string (nullable = true)\n",
      "\n"
     ]
    },
    {
     "name": "stderr",
     "output_type": "stream",
     "text": [
      "                                                                                \r"
     ]
    },
    {
     "data": {
      "text/plain": [
       "4003982"
      ]
     },
     "execution_count": 17,
     "metadata": {},
     "output_type": "execute_result"
    }
   ],
   "source": [
    "orders = orders.drop('_c0')\n",
    "orders.show(5)\n",
    "orders.printSchema()\n",
    "orders.count()"
   ]
  },
  {
   "cell_type": "code",
   "execution_count": 18,
   "id": "859eca85",
   "metadata": {
    "execution": {
     "iopub.execute_input": "2023-02-28T13:00:41.850740Z",
     "iopub.status.busy": "2023-02-28T13:00:41.850335Z",
     "iopub.status.idle": "2023-02-28T13:00:41.896564Z",
     "shell.execute_reply": "2023-02-28T13:00:41.895028Z"
    },
    "papermill": {
     "duration": 0.094551,
     "end_time": "2023-02-28T13:00:41.899597",
     "exception": false,
     "start_time": "2023-02-28T13:00:41.805046",
     "status": "completed"
    },
    "tags": []
   },
   "outputs": [
    {
     "name": "stdout",
     "output_type": "stream",
     "text": [
      "root\n",
      " |-- order_id: integer (nullable = true)\n",
      " |-- value: integer (nullable = true)\n",
      "\n"
     ]
    }
   ],
   "source": [
    "orders = orders.withColumn('order_id', col('order_id').cast(IntegerType()))\n",
    "orders = orders.withColumn('value', col('value').cast(IntegerType()))\n",
    "\n",
    "orders.printSchema()"
   ]
  },
  {
   "cell_type": "code",
   "execution_count": 19,
   "id": "7f6519e1",
   "metadata": {
    "execution": {
     "iopub.execute_input": "2023-02-28T13:00:41.988075Z",
     "iopub.status.busy": "2023-02-28T13:00:41.987263Z",
     "iopub.status.idle": "2023-02-28T13:00:44.522137Z",
     "shell.execute_reply": "2023-02-28T13:00:44.520672Z"
    },
    "papermill": {
     "duration": 2.583271,
     "end_time": "2023-02-28T13:00:44.526147",
     "exception": false,
     "start_time": "2023-02-28T13:00:41.942876",
     "status": "completed"
    },
    "tags": []
   },
   "outputs": [
    {
     "name": "stderr",
     "output_type": "stream",
     "text": [
      "                                                                                \r"
     ]
    },
    {
     "data": {
      "text/plain": [
       "4003977"
      ]
     },
     "execution_count": 19,
     "metadata": {},
     "output_type": "execute_result"
    }
   ],
   "source": [
    "# usuniecie wierszy z wartosciami NULL \n",
    "orders = orders.dropna()\n",
    "orders.count()"
   ]
  },
  {
   "cell_type": "markdown",
   "id": "6736fc67",
   "metadata": {
    "papermill": {
     "duration": 0.042111,
     "end_time": "2023-02-28T13:00:44.616183",
     "exception": false,
     "start_time": "2023-02-28T13:00:44.574072",
     "status": "completed"
    },
    "tags": []
   },
   "source": [
    "# customer_orders"
   ]
  },
  {
   "cell_type": "code",
   "execution_count": 20,
   "id": "b5a5fbe6",
   "metadata": {
    "execution": {
     "iopub.execute_input": "2023-02-28T13:00:44.701830Z",
     "iopub.status.busy": "2023-02-28T13:00:44.701409Z",
     "iopub.status.idle": "2023-02-28T13:00:45.752689Z",
     "shell.execute_reply": "2023-02-28T13:00:45.751374Z"
    },
    "papermill": {
     "duration": 1.097259,
     "end_time": "2023-02-28T13:00:45.755370",
     "exception": false,
     "start_time": "2023-02-28T13:00:44.658111",
     "status": "completed"
    },
    "tags": []
   },
   "outputs": [
    {
     "name": "stdout",
     "output_type": "stream",
     "text": [
      "+-----------+--------+\n",
      "|customer_id|order_id|\n",
      "+-----------+--------+\n",
      "|   77461851|82168832|\n",
      "|   37934116|38300086|\n",
      "|   39770481|70629629|\n",
      "|   50298765|81244871|\n",
      "|   23383753|88005542|\n",
      "+-----------+--------+\n",
      "only showing top 5 rows\n",
      "\n",
      "root\n",
      " |-- customer_id: string (nullable = true)\n",
      " |-- order_id: string (nullable = true)\n",
      "\n"
     ]
    },
    {
     "name": "stderr",
     "output_type": "stream",
     "text": [
      "                                                                                \r"
     ]
    },
    {
     "data": {
      "text/plain": [
       "4003964"
      ]
     },
     "execution_count": 20,
     "metadata": {},
     "output_type": "execute_result"
    }
   ],
   "source": [
    "customer_orders = customer_orders.drop('_c0')\n",
    "customer_orders.show(5)\n",
    "customer_orders.printSchema()\n",
    "customer_orders.count()"
   ]
  },
  {
   "cell_type": "code",
   "execution_count": 21,
   "id": "c96313c3",
   "metadata": {
    "execution": {
     "iopub.execute_input": "2023-02-28T13:00:45.843136Z",
     "iopub.status.busy": "2023-02-28T13:00:45.842694Z",
     "iopub.status.idle": "2023-02-28T13:00:45.884919Z",
     "shell.execute_reply": "2023-02-28T13:00:45.883314Z"
    },
    "papermill": {
     "duration": 0.090929,
     "end_time": "2023-02-28T13:00:45.888909",
     "exception": false,
     "start_time": "2023-02-28T13:00:45.797980",
     "status": "completed"
    },
    "tags": []
   },
   "outputs": [
    {
     "name": "stdout",
     "output_type": "stream",
     "text": [
      "root\n",
      " |-- order_id: integer (nullable = true)\n",
      " |-- value: integer (nullable = true)\n",
      "\n"
     ]
    }
   ],
   "source": [
    "customer_orders = customer_orders.withColumn('customer_id', col('customer_id').cast(IntegerType()))\n",
    "customer_orders = customer_orders.withColumn('order_id', col('order_id').cast(IntegerType()))\n",
    "\n",
    "orders.printSchema()"
   ]
  },
  {
   "cell_type": "code",
   "execution_count": 22,
   "id": "38b34956",
   "metadata": {
    "execution": {
     "iopub.execute_input": "2023-02-28T13:00:45.978350Z",
     "iopub.status.busy": "2023-02-28T13:00:45.977606Z",
     "iopub.status.idle": "2023-02-28T13:00:48.437962Z",
     "shell.execute_reply": "2023-02-28T13:00:48.436600Z"
    },
    "papermill": {
     "duration": 2.508432,
     "end_time": "2023-02-28T13:00:48.441422",
     "exception": false,
     "start_time": "2023-02-28T13:00:45.932990",
     "status": "completed"
    },
    "tags": []
   },
   "outputs": [
    {
     "name": "stderr",
     "output_type": "stream",
     "text": [
      "                                                                                \r"
     ]
    },
    {
     "data": {
      "text/plain": [
       "4003963"
      ]
     },
     "execution_count": 22,
     "metadata": {},
     "output_type": "execute_result"
    }
   ],
   "source": [
    "# usuniecie wierszy z wartosciami NULL \n",
    "customer_orders = customer_orders.dropna()\n",
    "customer_orders.count()"
   ]
  },
  {
   "cell_type": "markdown",
   "id": "83b84016",
   "metadata": {
    "papermill": {
     "duration": 0.043233,
     "end_time": "2023-02-28T13:00:48.532157",
     "exception": false,
     "start_time": "2023-02-28T13:00:48.488924",
     "status": "completed"
    },
    "tags": []
   },
   "source": [
    "# 1. Jaki odsetek klientów odbiera swoje zamówienia pod innym kodem pocztowym niż mieszka?\n"
   ]
  },
  {
   "cell_type": "code",
   "execution_count": 23,
   "id": "29aa9c52",
   "metadata": {
    "execution": {
     "iopub.execute_input": "2023-02-28T13:00:48.620556Z",
     "iopub.status.busy": "2023-02-28T13:00:48.619986Z",
     "iopub.status.idle": "2023-02-28T13:00:48.656646Z",
     "shell.execute_reply": "2023-02-28T13:00:48.655205Z"
    },
    "papermill": {
     "duration": 0.084007,
     "end_time": "2023-02-28T13:00:48.659498",
     "exception": false,
     "start_time": "2023-02-28T13:00:48.575491",
     "status": "completed"
    },
    "tags": []
   },
   "outputs": [],
   "source": [
    "# Step 1, polaczenie tabeli 'customers_zip' i 'delivery_zip'\n",
    "\n",
    "joined_df = customers_zip.join(delivery_zip, ['customer_id'], 'left')\n"
   ]
  },
  {
   "cell_type": "code",
   "execution_count": 24,
   "id": "48953ed4",
   "metadata": {
    "execution": {
     "iopub.execute_input": "2023-02-28T13:00:48.748908Z",
     "iopub.status.busy": "2023-02-28T13:00:48.748457Z",
     "iopub.status.idle": "2023-02-28T13:00:53.332773Z",
     "shell.execute_reply": "2023-02-28T13:00:53.331489Z"
    },
    "papermill": {
     "duration": 4.634706,
     "end_time": "2023-02-28T13:00:53.337809",
     "exception": false,
     "start_time": "2023-02-28T13:00:48.703103",
     "status": "completed"
    },
    "tags": []
   },
   "outputs": [
    {
     "name": "stderr",
     "output_type": "stream",
     "text": [
      "                                                                                \r"
     ]
    },
    {
     "data": {
      "text/plain": [
       "1013072"
      ]
     },
     "execution_count": 24,
     "metadata": {},
     "output_type": "execute_result"
    }
   ],
   "source": [
    "# sprawdzenie liczby klientow ktorzy orzymuja swoje zamowienia pod innym kodem pocztowym\n",
    "diff_zip_count = joined_df.filter(joined_df.zip_cust != joined_df.zip_del)\n",
    "diff_zip_count.count()"
   ]
  },
  {
   "cell_type": "code",
   "execution_count": 25,
   "id": "fce796e0",
   "metadata": {
    "execution": {
     "iopub.execute_input": "2023-02-28T13:00:53.474388Z",
     "iopub.status.busy": "2023-02-28T13:00:53.473683Z",
     "iopub.status.idle": "2023-02-28T13:00:58.973928Z",
     "shell.execute_reply": "2023-02-28T13:00:58.972173Z"
    },
    "papermill": {
     "duration": 5.569995,
     "end_time": "2023-02-28T13:00:58.977473",
     "exception": false,
     "start_time": "2023-02-28T13:00:53.407478",
     "status": "completed"
    },
    "tags": []
   },
   "outputs": [
    {
     "name": "stderr",
     "output_type": "stream",
     "text": [
      "[Stage 50:===========================================>              (3 + 1) / 4]\r"
     ]
    },
    {
     "name": "stdout",
     "output_type": "stream",
     "text": [
      "+-----------+\n",
      "|customer_id|\n",
      "+-----------+\n",
      "|     570578|\n",
      "|   36025674|\n",
      "|   81174526|\n",
      "|   43802989|\n",
      "|   73127079|\n",
      "|   29347835|\n",
      "|     607933|\n",
      "|   55250873|\n",
      "|    7697744|\n",
      "|   60001774|\n",
      "|   86712831|\n",
      "|   24136461|\n",
      "|   46584318|\n",
      "|   60878122|\n",
      "|   19750152|\n",
      "|   55151857|\n",
      "|   16422510|\n",
      "|   85269095|\n",
      "|   78237449|\n",
      "|   15057151|\n",
      "+-----------+\n",
      "only showing top 20 rows\n",
      "\n"
     ]
    },
    {
     "name": "stderr",
     "output_type": "stream",
     "text": [
      "                                                                                \r"
     ]
    }
   ],
   "source": [
    "# suma wszytskich klientow\n",
    "total_count = joined_df.select('customer_id').distinct().show()\n"
   ]
  },
  {
   "cell_type": "code",
   "execution_count": 26,
   "id": "501c3453",
   "metadata": {
    "execution": {
     "iopub.execute_input": "2023-02-28T13:00:59.082233Z",
     "iopub.status.busy": "2023-02-28T13:00:59.080679Z",
     "iopub.status.idle": "2023-02-28T13:00:59.089110Z",
     "shell.execute_reply": "2023-02-28T13:00:59.087447Z"
    },
    "papermill": {
     "duration": 0.059224,
     "end_time": "2023-02-28T13:00:59.091939",
     "exception": false,
     "start_time": "2023-02-28T13:00:59.032715",
     "status": "completed"
    },
    "tags": []
   },
   "outputs": [
    {
     "name": "stdout",
     "output_type": "stream",
     "text": [
      "95.5093074888871\n"
     ]
    }
   ],
   "source": [
    "# obliczenie procentu klientow ktorzy otrzymuja zamowienia pod innym kodem pocztowym\n",
    "percentage_diff_zip = (1013072/1060705) * 100\n",
    "print(percentage_diff_zip)"
   ]
  },
  {
   "cell_type": "markdown",
   "id": "43b08e36",
   "metadata": {
    "papermill": {
     "duration": 0.046653,
     "end_time": "2023-02-28T13:00:59.184300",
     "exception": false,
     "start_time": "2023-02-28T13:00:59.137647",
     "status": "completed"
    },
    "tags": []
   },
   "source": [
    " **95%** procent klientow odbiera swoje zamowienia pod innym kodem pocztowym niz mieszka."
   ]
  },
  {
   "cell_type": "markdown",
   "id": "130abdb2",
   "metadata": {
    "papermill": {
     "duration": 0.045704,
     "end_time": "2023-02-28T13:00:59.275254",
     "exception": false,
     "start_time": "2023-02-28T13:00:59.229550",
     "status": "completed"
    },
    "tags": []
   },
   "source": [
    "# 2. Jaki sport jest najbardziej i najmniej popularny wśród klientów?"
   ]
  },
  {
   "cell_type": "code",
   "execution_count": 27,
   "id": "c436a8a2",
   "metadata": {
    "execution": {
     "iopub.execute_input": "2023-02-28T13:00:59.368568Z",
     "iopub.status.busy": "2023-02-28T13:00:59.368099Z",
     "iopub.status.idle": "2023-02-28T13:00:59.384936Z",
     "shell.execute_reply": "2023-02-28T13:00:59.383560Z"
    },
    "papermill": {
     "duration": 0.067375,
     "end_time": "2023-02-28T13:00:59.387784",
     "exception": false,
     "start_time": "2023-02-28T13:00:59.320409",
     "status": "completed"
    },
    "tags": []
   },
   "outputs": [],
   "source": [
    "# polaczenie 'customers_zip' i 'sports' \n",
    "customers_orders = customers_zip.join(sports, 'customer_id', 'left')"
   ]
  },
  {
   "cell_type": "code",
   "execution_count": 28,
   "id": "1b590a85",
   "metadata": {
    "execution": {
     "iopub.execute_input": "2023-02-28T13:00:59.479937Z",
     "iopub.status.busy": "2023-02-28T13:00:59.479019Z",
     "iopub.status.idle": "2023-02-28T13:01:05.043482Z",
     "shell.execute_reply": "2023-02-28T13:01:05.041744Z"
    },
    "papermill": {
     "duration": 5.615299,
     "end_time": "2023-02-28T13:01:05.048341",
     "exception": false,
     "start_time": "2023-02-28T13:00:59.433042",
     "status": "completed"
    },
    "tags": []
   },
   "outputs": [
    {
     "name": "stderr",
     "output_type": "stream",
     "text": [
      "                                                                                \r"
     ]
    },
    {
     "name": "stdout",
     "output_type": "stream",
     "text": [
      "+-----------+--------------+\n",
      "|      sport|customer_count|\n",
      "+-----------+--------------+\n",
      "|   p3ywanie|        275734|\n",
      "| 3ucznictwo|        223552|\n",
      "| nurkowanie|        212356|\n",
      "|  myolistwo|        181253|\n",
      "|jeYdziectwo|         63859|\n",
      "|   bieganie|         53269|\n",
      "|     rowery|         43153|\n",
      "|     karate|         21695|\n",
      "|aquafitness|         21566|\n",
      "|       judo|         21476|\n",
      "|  snowboard|         21472|\n",
      "|  chodzenie|         21423|\n",
      "|      hokej|         21409|\n",
      "|  myslistwo|         10858|\n",
      "+-----------+--------------+\n",
      "\n"
     ]
    }
   ],
   "source": [
    "# pogrupowanie na rodzaje sportow malejaco, od najbardzienpopularnego\n",
    "grouped_customers_orders = customers_orders.groupBy('sport').agg(count('customer_id').alias('customer_count')).orderBy(desc('customer_count'))\n",
    "grouped_customers_orders.show()"
   ]
  },
  {
   "cell_type": "markdown",
   "id": "85075879",
   "metadata": {
    "papermill": {
     "duration": 0.055131,
     "end_time": "2023-02-28T13:01:05.191465",
     "exception": false,
     "start_time": "2023-02-28T13:01:05.136334",
     "status": "completed"
    },
    "tags": []
   },
   "source": [
    "Na podstawie danych mozemy stwierdzic iz **plywanie** jest **najpopularniejszym** sportem wsrod klientow, zas **myslistwo** jest **najmniej** **popularne**"
   ]
  },
  {
   "cell_type": "markdown",
   "id": "ff86fc69",
   "metadata": {
    "papermill": {
     "duration": 0.045796,
     "end_time": "2023-02-28T13:01:05.283576",
     "exception": false,
     "start_time": "2023-02-28T13:01:05.237780",
     "status": "completed"
    },
    "tags": []
   },
   "source": [
    "# 3. Ilu klientów uprawia więcej niż 2 sporty?"
   ]
  },
  {
   "cell_type": "code",
   "execution_count": 29,
   "id": "4caf3d67",
   "metadata": {
    "execution": {
     "iopub.execute_input": "2023-02-28T13:01:05.376945Z",
     "iopub.status.busy": "2023-02-28T13:01:05.376527Z",
     "iopub.status.idle": "2023-02-28T13:01:07.690864Z",
     "shell.execute_reply": "2023-02-28T13:01:07.688250Z"
    },
    "papermill": {
     "duration": 2.364865,
     "end_time": "2023-02-28T13:01:07.694003",
     "exception": false,
     "start_time": "2023-02-28T13:01:05.329138",
     "status": "completed"
    },
    "tags": []
   },
   "outputs": [
    {
     "name": "stderr",
     "output_type": "stream",
     "text": [
      "[Stage 63:=============================>                            (2 + 2) / 4]\r"
     ]
    },
    {
     "name": "stdout",
     "output_type": "stream",
     "text": [
      "+-----------+--------+----------+\n",
      "|customer_id|zip_cust|     sport|\n",
      "+-----------+--------+----------+\n",
      "|    2789905|   93737|  p3ywanie|\n",
      "|    7280623|   22931|3ucznictwo|\n",
      "|   37934116|   92635| myolistwo|\n",
      "|   50298765|   40516|nurkowanie|\n",
      "|   70237995|   38540| myolistwo|\n",
      "+-----------+--------+----------+\n",
      "only showing top 5 rows\n",
      "\n"
     ]
    },
    {
     "name": "stderr",
     "output_type": "stream",
     "text": [
      "                                                                                \r"
     ]
    }
   ],
   "source": [
    "# polaczenie 'customers_zip' i 'sports'\n",
    "zip_sports = customers_zip.join(sports, 'customer_id', 'left')\n",
    "zip_sports.show(5)"
   ]
  },
  {
   "cell_type": "code",
   "execution_count": 30,
   "id": "d4ac7269",
   "metadata": {
    "execution": {
     "iopub.execute_input": "2023-02-28T13:01:07.785703Z",
     "iopub.status.busy": "2023-02-28T13:01:07.785304Z",
     "iopub.status.idle": "2023-02-28T13:01:07.807353Z",
     "shell.execute_reply": "2023-02-28T13:01:07.805793Z"
    },
    "papermill": {
     "duration": 0.071341,
     "end_time": "2023-02-28T13:01:07.810162",
     "exception": false,
     "start_time": "2023-02-28T13:01:07.738821",
     "status": "completed"
    },
    "tags": []
   },
   "outputs": [],
   "source": [
    "\n",
    "grouped_zip_sports = zip_sports.groupBy('customer_id').agg(sql_count('sport').alias('sport_count'))\n"
   ]
  },
  {
   "cell_type": "code",
   "execution_count": 31,
   "id": "f3f6e949",
   "metadata": {
    "execution": {
     "iopub.execute_input": "2023-02-28T13:01:07.902720Z",
     "iopub.status.busy": "2023-02-28T13:01:07.901771Z",
     "iopub.status.idle": "2023-02-28T13:01:12.578462Z",
     "shell.execute_reply": "2023-02-28T13:01:12.576654Z"
    },
    "papermill": {
     "duration": 4.728269,
     "end_time": "2023-02-28T13:01:12.583098",
     "exception": false,
     "start_time": "2023-02-28T13:01:07.854829",
     "status": "completed"
    },
    "tags": []
   },
   "outputs": [
    {
     "name": "stderr",
     "output_type": "stream",
     "text": [
      "                                                                                \r"
     ]
    },
    {
     "data": {
      "text/plain": [
       "5040"
      ]
     },
     "execution_count": 31,
     "metadata": {},
     "output_type": "execute_result"
    }
   ],
   "source": [
    "# sprawdzenie ilu klientow uprawia wiecej niz 2 sporty\n",
    "num_customers = grouped_zip_sports.filter(grouped_zip_sports.sport_count > 2)\n",
    "num_customers.count()"
   ]
  },
  {
   "cell_type": "markdown",
   "id": "363f1227",
   "metadata": {
    "papermill": {
     "duration": 0.060118,
     "end_time": "2023-02-28T13:01:12.714376",
     "exception": false,
     "start_time": "2023-02-28T13:01:12.654258",
     "status": "completed"
    },
    "tags": []
   },
   "source": [
    "Sposrod wszystkich klientow, **5040** uprawia wiecej niz 2 dyscypliny"
   ]
  },
  {
   "cell_type": "markdown",
   "id": "be037457",
   "metadata": {
    "papermill": {
     "duration": 0.044869,
     "end_time": "2023-02-28T13:01:12.805260",
     "exception": false,
     "start_time": "2023-02-28T13:01:12.760391",
     "status": "completed"
    },
    "tags": []
   },
   "source": [
    "# 4. Jaka jest średnia wartość zamówienia?"
   ]
  },
  {
   "cell_type": "code",
   "execution_count": 32,
   "id": "4eb6fa58",
   "metadata": {
    "execution": {
     "iopub.execute_input": "2023-02-28T13:01:12.897416Z",
     "iopub.status.busy": "2023-02-28T13:01:12.896987Z",
     "iopub.status.idle": "2023-02-28T13:01:16.038703Z",
     "shell.execute_reply": "2023-02-28T13:01:16.037002Z"
    },
    "papermill": {
     "duration": 3.194913,
     "end_time": "2023-02-28T13:01:16.045390",
     "exception": false,
     "start_time": "2023-02-28T13:01:12.850477",
     "status": "completed"
    },
    "tags": []
   },
   "outputs": [
    {
     "name": "stderr",
     "output_type": "stream",
     "text": [
      "[Stage 79:>                                                         (0 + 4) / 4]\r"
     ]
    },
    {
     "name": "stdout",
     "output_type": "stream",
     "text": [
      "+------------------+\n",
      "|        avg(value)|\n",
      "+------------------+\n",
      "|25388.560869605393|\n",
      "+------------------+\n",
      "\n"
     ]
    },
    {
     "name": "stderr",
     "output_type": "stream",
     "text": [
      "                                                                                \r"
     ]
    }
   ],
   "source": [
    "avg_order_value = orders.select(mean('value'))\n",
    "avg_order_value.show()"
   ]
  },
  {
   "cell_type": "code",
   "execution_count": 33,
   "id": "6e3ff651",
   "metadata": {
    "execution": {
     "iopub.execute_input": "2023-02-28T13:01:16.146321Z",
     "iopub.status.busy": "2023-02-28T13:01:16.145887Z",
     "iopub.status.idle": "2023-02-28T13:01:22.002885Z",
     "shell.execute_reply": "2023-02-28T13:01:22.001675Z"
    },
    "papermill": {
     "duration": 5.910829,
     "end_time": "2023-02-28T13:01:22.009182",
     "exception": false,
     "start_time": "2023-02-28T13:01:16.098353",
     "status": "completed"
    },
    "tags": []
   },
   "outputs": [
    {
     "name": "stderr",
     "output_type": "stream",
     "text": [
      "[Stage 82:=============================>                            (2 + 2) / 4]\r"
     ]
    },
    {
     "name": "stdout",
     "output_type": "stream",
     "text": [
      "+-------+------------------+\n",
      "|summary|             value|\n",
      "+-------+------------------+\n",
      "|  count|           4003977|\n",
      "|    min|              -800|\n",
      "|    25%|               203|\n",
      "|    50%|               405|\n",
      "|    75%|               606|\n",
      "|    max|           7999900|\n",
      "| stddev| 404609.2541032316|\n",
      "|   mean|25388.560869605393|\n",
      "+-------+------------------+\n",
      "\n"
     ]
    },
    {
     "name": "stderr",
     "output_type": "stream",
     "text": [
      "                                                                                \r"
     ]
    }
   ],
   "source": [
    "orders.select('value').summary(\"count\", \"min\", \"25%\", \"50%\", \"75%\", \"max\", \"stddev\", \"mean\").show()\n"
   ]
  },
  {
   "cell_type": "markdown",
   "id": "a072f855",
   "metadata": {
    "papermill": {
     "duration": 0.045422,
     "end_time": "2023-02-28T13:01:22.109765",
     "exception": false,
     "start_time": "2023-02-28T13:01:22.064343",
     "status": "completed"
    },
    "tags": []
   },
   "source": [
    "Srednia wartosc zamowienia wynosi **25388**, jednak w przypadku tej tabeli, odchylenie standardowe(**404609**) jest bardzo duże w porównaniu ze średnią, co wskazuje na duże zróżnicowanie w danych. W tym przypadku mediana (**405**) byłaby lepszym wyborem, ponieważ bardziej reprezentuje \"typowe\" wartości w zestawie danych."
   ]
  },
  {
   "cell_type": "markdown",
   "id": "377b5fbf",
   "metadata": {
    "papermill": {
     "duration": 0.045783,
     "end_time": "2023-02-28T13:01:22.202973",
     "exception": false,
     "start_time": "2023-02-28T13:01:22.157190",
     "status": "completed"
    },
    "tags": []
   },
   "source": [
    "# 5. Jaka jest średnia wartość zamówienia klientów uprawiających jeździectwo?"
   ]
  },
  {
   "cell_type": "code",
   "execution_count": 34,
   "id": "68f405bf",
   "metadata": {
    "execution": {
     "iopub.execute_input": "2023-02-28T13:01:22.317325Z",
     "iopub.status.busy": "2023-02-28T13:01:22.316299Z",
     "iopub.status.idle": "2023-02-28T13:01:43.960848Z",
     "shell.execute_reply": "2023-02-28T13:01:43.958997Z"
    },
    "papermill": {
     "duration": 21.711928,
     "end_time": "2023-02-28T13:01:43.966024",
     "exception": false,
     "start_time": "2023-02-28T13:01:22.254096",
     "status": "completed"
    },
    "tags": []
   },
   "outputs": [
    {
     "name": "stderr",
     "output_type": "stream",
     "text": [
      "[Stage 99:>                                                         (0 + 1) / 1]\r"
     ]
    },
    {
     "name": "stdout",
     "output_type": "stream",
     "text": [
      "+--------+-----------+--------+-------+----------+-----+\n",
      "|order_id|customer_id|zip_cust|zip_del|     sport|value|\n",
      "+--------+-----------+--------+-------+----------+-----+\n",
      "|10187796|   83072138|   27535|  27535|  p3ywanie|   55|\n",
      "|10187796|   83072138|   27535|  98096|  p3ywanie|   55|\n",
      "|10187886|   24956203|   43374|  43374|  p3ywanie|  779|\n",
      "|10187886|   24956203|   43374|  34248|  p3ywanie|  779|\n",
      "|10187943|   45765186|   73510|  73510|nurkowanie|  676|\n",
      "+--------+-----------+--------+-------+----------+-----+\n",
      "only showing top 5 rows\n",
      "\n"
     ]
    },
    {
     "name": "stderr",
     "output_type": "stream",
     "text": [
      "                                                                                \r"
     ]
    }
   ],
   "source": [
    "\n",
    "horseriding_join = customers_zip.join(delivery_zip, \"customer_id\").join(sports, \"customer_id\").join(customer_orders, \"customer_id\").join(orders, \"order_id\")\n",
    "horseriding_join.show(5)"
   ]
  },
  {
   "cell_type": "code",
   "execution_count": 35,
   "id": "b34c287f",
   "metadata": {
    "execution": {
     "iopub.execute_input": "2023-02-28T13:01:44.076260Z",
     "iopub.status.busy": "2023-02-28T13:01:44.075636Z",
     "iopub.status.idle": "2023-02-28T13:01:57.097552Z",
     "shell.execute_reply": "2023-02-28T13:01:57.096017Z"
    },
    "papermill": {
     "duration": 13.074593,
     "end_time": "2023-02-28T13:01:57.101118",
     "exception": false,
     "start_time": "2023-02-28T13:01:44.026525",
     "status": "completed"
    },
    "tags": []
   },
   "outputs": [
    {
     "name": "stderr",
     "output_type": "stream",
     "text": [
      "[Stage 110:============================>                            (2 + 2) / 4]\r"
     ]
    },
    {
     "name": "stdout",
     "output_type": "stream",
     "text": [
      "+--------+-----------+--------+-------+-----------+-----+\n",
      "|order_id|customer_id|zip_cust|zip_del|      sport|value|\n",
      "+--------+-----------+--------+-------+-----------+-----+\n",
      "|10188175|   59297032|   98124|  97987|jeYdziectwo|  249|\n",
      "|10188175|   59297032|   98124|  98124|jeYdziectwo|  249|\n",
      "|10190729|   14982223|   10538|  17286|jeYdziectwo|  150|\n",
      "|10190729|   14982223|   10538|  10538|jeYdziectwo|  150|\n",
      "|10191383|   30027060|   10297|  73186|jeYdziectwo|  511|\n",
      "+--------+-----------+--------+-------+-----------+-----+\n",
      "only showing top 5 rows\n",
      "\n"
     ]
    },
    {
     "name": "stderr",
     "output_type": "stream",
     "text": [
      "                                                                                \r"
     ]
    }
   ],
   "source": [
    "horse_riding_filtered = horseriding_join.filter(horseriding_join.sport == \"jeYdziectwo\")\n",
    "horse_riding_filtered.show(5)"
   ]
  },
  {
   "cell_type": "code",
   "execution_count": 36,
   "id": "f565cf83",
   "metadata": {
    "execution": {
     "iopub.execute_input": "2023-02-28T13:01:57.201412Z",
     "iopub.status.busy": "2023-02-28T13:01:57.200933Z",
     "iopub.status.idle": "2023-02-28T13:01:57.225484Z",
     "shell.execute_reply": "2023-02-28T13:01:57.224373Z"
    },
    "papermill": {
     "duration": 0.07863,
     "end_time": "2023-02-28T13:01:57.228257",
     "exception": false,
     "start_time": "2023-02-28T13:01:57.149627",
     "status": "completed"
    },
    "tags": []
   },
   "outputs": [],
   "source": [
    "avg_order_value_df = horse_riding_filtered.groupBy(\"customer_id\").agg(avg(\"value\").alias(\"avg_order_value\"))"
   ]
  },
  {
   "cell_type": "code",
   "execution_count": 37,
   "id": "affcf925",
   "metadata": {
    "execution": {
     "iopub.execute_input": "2023-02-28T13:01:57.328515Z",
     "iopub.status.busy": "2023-02-28T13:01:57.327772Z",
     "iopub.status.idle": "2023-02-28T13:02:10.913183Z",
     "shell.execute_reply": "2023-02-28T13:02:10.911853Z"
    },
    "papermill": {
     "duration": 13.64271,
     "end_time": "2023-02-28T13:02:10.920479",
     "exception": false,
     "start_time": "2023-02-28T13:01:57.277769",
     "status": "completed"
    },
    "tags": []
   },
   "outputs": [
    {
     "name": "stderr",
     "output_type": "stream",
     "text": [
      "[Stage 123:============================>                            (2 + 2) / 4]\r"
     ]
    },
    {
     "name": "stdout",
     "output_type": "stream",
     "text": [
      "23/02/28 13:02:09 WARN RowBasedKeyValueBatch: Calling spill() on RowBasedKeyValueBatch. Will not spill but return 0.\n",
      "23/02/28 13:02:09 WARN RowBasedKeyValueBatch: Calling spill() on RowBasedKeyValueBatch. Will not spill but return 0.\n",
      "23/02/28 13:02:09 WARN RowBasedKeyValueBatch: Calling spill() on RowBasedKeyValueBatch. Will not spill but return 0.\n",
      "23/02/28 13:02:09 WARN RowBasedKeyValueBatch: Calling spill() on RowBasedKeyValueBatch. Will not spill but return 0.\n"
     ]
    },
    {
     "name": "stderr",
     "output_type": "stream",
     "text": [
      "[Stage 127:============================>                            (2 + 2) / 4]\r"
     ]
    },
    {
     "name": "stdout",
     "output_type": "stream",
     "text": [
      "+--------------------+\n",
      "|avg(avg_order_value)|\n",
      "+--------------------+\n",
      "|  25928.559230661373|\n",
      "+--------------------+\n",
      "\n"
     ]
    },
    {
     "name": "stderr",
     "output_type": "stream",
     "text": [
      "                                                                                \r"
     ]
    }
   ],
   "source": [
    "overall_avg_order_value = avg_order_value_df.agg(avg(\"avg_order_value\"))\n",
    "overall_avg_order_value.show()"
   ]
  },
  {
   "cell_type": "markdown",
   "id": "0211ce38",
   "metadata": {
    "papermill": {
     "duration": 0.04929,
     "end_time": "2023-02-28T13:02:11.021643",
     "exception": false,
     "start_time": "2023-02-28T13:02:10.972353",
     "status": "completed"
    },
    "tags": []
   },
   "source": [
    "Srednia wartosc zamowienia dla jezdziectwa wyniosla **25928** lecz podobnie jak w przypadku sredniej ceny zamowienia dla wszystkich ze sportow mediana moze byc lepszym wskaznikiem "
   ]
  },
  {
   "cell_type": "markdown",
   "id": "ff4544c6",
   "metadata": {
    "papermill": {
     "duration": 0.050866,
     "end_time": "2023-02-28T13:02:11.122665",
     "exception": false,
     "start_time": "2023-02-28T13:02:11.071799",
     "status": "completed"
    },
    "tags": []
   },
   "source": [
    "# "
   ]
  },
  {
   "cell_type": "markdown",
   "id": "3f6c7baf",
   "metadata": {
    "papermill": {
     "duration": 0.052365,
     "end_time": "2023-02-28T13:02:11.228329",
     "exception": false,
     "start_time": "2023-02-28T13:02:11.175964",
     "status": "completed"
    },
    "tags": []
   },
   "source": [
    "# "
   ]
  }
 ],
 "metadata": {
  "kernelspec": {
   "display_name": "Python 3",
   "language": "python",
   "name": "python3"
  },
  "language_info": {
   "codemirror_mode": {
    "name": "ipython",
    "version": 3
   },
   "file_extension": ".py",
   "mimetype": "text/x-python",
   "name": "python",
   "nbconvert_exporter": "python",
   "pygments_lexer": "ipython3",
   "version": "3.7.12"
  },
  "papermill": {
   "default_parameters": {},
   "duration": 216.602262,
   "end_time": "2023-02-28T13:02:13.901097",
   "environment_variables": {},
   "exception": null,
   "input_path": "__notebook__.ipynb",
   "output_path": "__notebook__.ipynb",
   "parameters": {},
   "start_time": "2023-02-28T12:58:37.298835",
   "version": "2.4.0"
  }
 },
 "nbformat": 4,
 "nbformat_minor": 5
}
